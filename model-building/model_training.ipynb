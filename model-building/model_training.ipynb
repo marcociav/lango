{
  "nbformat": 4,
  "nbformat_minor": 0,
  "metadata": {
    "colab": {
      "name": "model_training.ipynb",
      "provenance": [],
      "collapsed_sections": [],
      "authorship_tag": "ABX9TyMbYlWiJCSNYjtpkdtgJPKm",
      "include_colab_link": true
    },
    "kernelspec": {
      "name": "python3",
      "display_name": "Python 3"
    },
    "language_info": {
      "name": "python"
    }
  },
  "cells": [
    {
      "cell_type": "markdown",
      "metadata": {
        "id": "view-in-github",
        "colab_type": "text"
      },
      "source": [
        "<a href=\"https://colab.research.google.com/github/marcociav/lango/blob/master/model-building/model_training.ipynb\" target=\"_parent\"><img src=\"https://colab.research.google.com/assets/colab-badge.svg\" alt=\"Open In Colab\"/></a>"
      ]
    },
    {
      "cell_type": "markdown",
      "source": [
        "# Lango - Model Training"
      ],
      "metadata": {
        "id": "icpoPqVhDCTf"
      }
    },
    {
      "cell_type": "markdown",
      "source": [
        "## Imports"
      ],
      "metadata": {
        "id": "S3U9JHCzDHsz"
      }
    },
    {
      "cell_type": "markdown",
      "source": [
        "### Packages"
      ],
      "metadata": {
        "id": "aZ4UlShpDKOA"
      }
    },
    {
      "cell_type": "code",
      "execution_count": 1,
      "metadata": {
        "id": "Av0hyw2H752E"
      },
      "outputs": [],
      "source": [
        "# TODO: retrain model and SAVE tokenizer too!\n",
        "import pandas as pd\n",
        "import tensorflow as tf\n",
        "import pickle\n",
        "import json\n",
        "\n",
        "from sklearn.model_selection import train_test_split\n",
        "from utils import tokenize_and_sequence, LangoModel"
      ]
    },
    {
      "cell_type": "code",
      "source": [
        "SAVE = False\n",
        "DEBUG = False\n",
        "v = 'v2'"
      ],
      "metadata": {
        "id": "sYYBxYh4uBd0"
      },
      "execution_count": 2,
      "outputs": []
    },
    {
      "cell_type": "markdown",
      "source": [
        "### Data"
      ],
      "metadata": {
        "id": "sndFZks7DMTG"
      }
    },
    {
      "cell_type": "code",
      "source": [
        "%%time\n",
        "df = pd.read_csv('data/sentences.csv', sep='\\t', names=[\"id\", \"lan_code\", \"sentence\"])"
      ],
      "metadata": {
        "id": "txFtuSGL8B59",
        "colab": {
          "base_uri": "https://localhost:8080/"
        },
        "outputId": "9fbc26bb-c6fb-4429-97dc-b5c27f5ff8a1"
      },
      "execution_count": 3,
      "outputs": [
        {
          "output_type": "stream",
          "name": "stdout",
          "text": [
            "CPU times: total: 11.4 s\n",
            "Wall time: 11.4 s\n"
          ]
        }
      ]
    },
    {
      "cell_type": "markdown",
      "source": [
        "## Data Cleaning"
      ],
      "metadata": {
        "id": "xqOHU0zqDOlP"
      }
    },
    {
      "cell_type": "code",
      "source": [
        "if DEBUG:\n",
        "  df = df.sample(frac=0.01, random_state=42)"
      ],
      "metadata": {
        "id": "m0W5EWc4PdVn"
      },
      "execution_count": 4,
      "outputs": []
    },
    {
      "cell_type": "code",
      "source": [
        "df = df.drop(columns=['id'])"
      ],
      "metadata": {
        "id": "UrhBIzkwlDxS"
      },
      "execution_count": 5,
      "outputs": []
    },
    {
      "cell_type": "code",
      "source": [
        "df.lan_code.unique()"
      ],
      "metadata": {
        "colab": {
          "base_uri": "https://localhost:8080/"
        },
        "id": "_VLxxvSB-sTa",
        "outputId": "94e70eb7-dd53-4a97-ddb6-5e48dfd731a0"
      },
      "execution_count": 6,
      "outputs": [
        {
          "output_type": "execute_result",
          "data": {
            "text/plain": [
              "array(['cmn', 'deu', 'rus', 'fra', 'eng', 'jpn', 'spa', 'ita', 'kor',\n",
              "       'vie', 'nld', 'epo', 'por', 'tur', 'heb', 'hun', 'ell', 'ind',\n",
              "       'ara', 'arz', 'fin', 'bul', 'yue', 'swe', 'ukr', 'bel', 'que',\n",
              "       'ces', 'swh', 'nno', 'wuu', 'nob', 'zsm', 'est', 'kat', 'pol',\n",
              "       'lat', 'urd', 'sqi', 'isl', 'fry', 'afr', 'ron', 'fao', 'san',\n",
              "       'bre', 'tat', 'yid', 'uig', 'uzb', 'srp', 'qya', 'dan', 'pes', nan,\n",
              "       'slk', 'eus', 'cycl', 'acm', 'tgl', 'lvs', 'kaz', 'hye', 'hin',\n",
              "       'lit', 'ben', 'cat', 'bos', 'hrv', 'tha', 'orv', 'cha', 'mon',\n",
              "       'lzh', 'scn', 'gle', 'mkd', 'slv', 'frm', 'glg', 'vol', 'ain',\n",
              "       'jbo', 'tok', 'ina', 'nds', 'mal', 'tlh', 'roh', 'ltz', 'oss',\n",
              "       'ido', 'gla', 'mlt', 'sco', 'ast', 'jav', 'oci', 'ile', 'ota',\n",
              "       '\\\\N', 'xal', 'tel', 'sjn', 'nov', 'khm', 'tpi', 'ang', 'aze',\n",
              "       'tgk', 'tuk', 'chv', 'hsb', 'dsb', 'bod', 'sme', 'cym', 'mri',\n",
              "       'ksh', 'kmr', 'ewe', 'kab', 'ber', 'tpw', 'udm', 'lld', 'pms',\n",
              "       'lad', 'grn', 'mlg', 'xho', 'pnb', 'grc', 'hat', 'lao', 'npi',\n",
              "       'cor', 'nah', 'avk', 'mar', 'guj', 'pan', 'kir', 'myv', 'prg',\n",
              "       'sux', 'crs', 'ckt', 'bak', 'zlm', 'hil', 'cbk', 'chr', 'nav',\n",
              "       'lkt', 'enm', 'arq', 'lin', 'abk', 'pcd', 'rom', 'gsw', 'tam',\n",
              "       'zul', 'awa', 'wln', 'amh', 'bar', 'hbo', 'mhr', 'bho', 'mrj',\n",
              "       'ckb', 'osx', 'pfl', 'mgm', 'sna', 'mah', 'hau', 'kan', 'nog',\n",
              "       'sin', 'glv', 'dng', 'kal', 'liv', 'vro', 'apc', 'jdt', 'fur',\n",
              "       'che', 'haw', 'yor', 'crh', 'pdc', 'ppl', 'kin', 'shs', 'mnw',\n",
              "       'tet', 'sah', 'kum', 'ngt', 'nya', 'pus', 'hif', 'mya', 'moh',\n",
              "       'wol', 'tir', 'ton', 'lzz', 'oar', 'lug', 'brx', 'non', 'mww',\n",
              "       'hak', 'nlv', 'ngu', 'bua', 'aym', 'vec', 'ibo', 'tkl', 'bam',\n",
              "       'kha', 'ceb', 'lou', 'fuc', 'smo', 'gag', 'lfn', 'arg', 'umb',\n",
              "       'tyv', 'kjh', 'oji', 'cyo', 'urh', 'kzj', 'pam', 'srd', 'lmo',\n",
              "       'swg', 'mdf', 'gil', 'snd', 'tso', 'sot', 'zza', 'tsn', 'pau',\n",
              "       'som', 'egl', 'ady', 'asm', 'ori', 'dtp', 'cho', 'max', 'kam',\n",
              "       'niu', 'sag', 'ilo', 'kaa', 'fuv', 'nch', 'hoc', 'iba', 'gbm',\n",
              "       'sun', 'war', 'mvv', 'pap', 'ary', 'kxi', 'csb', 'pag', 'cos',\n",
              "       'rif', 'kek', 'krc', 'aii', 'ban', 'ssw', 'tvl', 'mfe', 'tah',\n",
              "       'bvy', 'bcl', 'hnj', 'nau', 'nst', 'afb', 'quc', 'min', 'tmw',\n",
              "       'mad', 'bjn', 'mai', 'cjy', 'got', 'hsn', 'gan', 'tzl', 'dws',\n",
              "       'ldn', 'afh', 'sgs', 'krl', 'vep', 'rue', 'tly', 'mic', 'ext',\n",
              "       'izh', 'sma', 'jam', 'cmo', 'mwl', 'kpv', 'koi', 'bis', 'ike',\n",
              "       'run', 'evn', 'ryu', 'mnc', 'aoz', 'otk', 'kas', 'aln', 'akl',\n",
              "       'yua', 'shy', 'fkv', 'gos', 'fij', 'thv', 'zgh', 'gcf', 'cay',\n",
              "       'xmf', 'tig', 'div', 'lij', 'rap', 'hrx', 'cpi', 'tts', 'gaa',\n",
              "       'tmr', 'iii', 'ltg', 'bzt', 'syc', 'emx', 'gom', 'chg', 'osp',\n",
              "       'stq', 'frr', 'fro', 'nys', 'toi', 'new', 'phn', 'jpa', 'rel',\n",
              "       'drt', 'chn', 'pli', 'laa', 'bal', 'hdn', 'hax', 'mik', 'ajp',\n",
              "       'xqa', 'pal', 'crk', 'mni', 'lut', 'ayl', 'ood', 'sdh', 'ofs',\n",
              "       'nus', 'kiu', 'diq', 'qxq', 'alt', 'bfz', 'klj', 'mus', 'srn',\n",
              "       'guc', 'lim', 'zea', 'shi', 'mnr', 'bom', 'sat', 'szl', 'igs'],\n",
              "      dtype=object)"
            ]
          },
          "metadata": {},
          "execution_count": 6
        }
      ]
    },
    {
      "cell_type": "code",
      "source": [
        "df = df.loc[~((df.lan_code.isna()) | (df.lan_code == '\\\\N'))]"
      ],
      "metadata": {
        "id": "S6neSEhV8x7w"
      },
      "execution_count": 7,
      "outputs": []
    },
    {
      "cell_type": "code",
      "source": [
        "df = df[~((df.sentence == '') | (df.sentence == ' '))]"
      ],
      "metadata": {
        "id": "F9OgBT2t_c4E"
      },
      "execution_count": 8,
      "outputs": []
    },
    {
      "cell_type": "markdown",
      "source": [
        "## Preprocessing"
      ],
      "metadata": {
        "id": "BlgPMgSvhIFP"
      }
    },
    {
      "cell_type": "markdown",
      "source": [
        "### Encoding Classes"
      ],
      "metadata": {
        "id": "hJphcgXt_NJQ"
      }
    },
    {
      "cell_type": "code",
      "source": [
        "lan_list = list(df.lan_code.unique())\n",
        "num_classes = len(lan_list)\n",
        "\n",
        "num_classes"
      ],
      "metadata": {
        "colab": {
          "base_uri": "https://localhost:8080/"
        },
        "id": "VUu0GqqN--l9",
        "outputId": "7704c0ce-2a2b-4c4f-c2c2-74f44e51a085"
      },
      "execution_count": 9,
      "outputs": [
        {
          "output_type": "execute_result",
          "data": {
            "text/plain": [
              "404"
            ]
          },
          "metadata": {},
          "execution_count": 9
        }
      ]
    },
    {
      "cell_type": "code",
      "source": [
        "lan_to_num = {\n",
        "    lan: i \n",
        "    for i, lan in enumerate(lan_list)\n",
        "}\n",
        "num_to_lan = {\n",
        "    i: lan for lan, i in lan_to_num.items()\n",
        "}"
      ],
      "metadata": {
        "id": "77npeHWo_ePL"
      },
      "execution_count": 10,
      "outputs": []
    },
    {
      "cell_type": "markdown",
      "source": [
        "#### Save lancode encoding"
      ],
      "metadata": {
        "id": "-edOvzLwjddf"
      }
    },
    {
      "cell_type": "code",
      "source": [
        "with open('models/utils/lan_to_num.json', 'w') as f:\n",
        "  json.dump(lan_to_num, f)\n",
        "with open('models/utils/num_to_lan.json', 'w') as f:\n",
        "  json.dump(num_to_lan, f)"
      ],
      "metadata": {
        "id": "RnP0S6jMjdGZ"
      },
      "execution_count": 11,
      "outputs": []
    },
    {
      "cell_type": "code",
      "source": [
        "df.lan_code = df.lan_code.map(lan_to_num).astype(int)"
      ],
      "metadata": {
        "id": "v6TdC6x9BKl8"
      },
      "execution_count": 12,
      "outputs": []
    },
    {
      "cell_type": "code",
      "source": [
        "df"
      ],
      "metadata": {
        "colab": {
          "base_uri": "https://localhost:8080/",
          "height": 423
        },
        "id": "296Tt_QBB3EN",
        "outputId": "45fb1f25-9e25-4b77-c161-605da69a8dad"
      },
      "execution_count": 13,
      "outputs": [
        {
          "output_type": "execute_result",
          "data": {
            "text/plain": [
              "          lan_code                      sentence\n",
              "0                0                        我們試試看！\n",
              "1                0                       我该去睡觉了。\n",
              "2                0                       你在干什麼啊？\n",
              "3                0                        這是什麼啊？\n",
              "4                0        今天是６月１８号，也是Muiriel的生日！\n",
              "...            ...                           ...\n",
              "10342205         6  Quiero este libro por favor.\n",
              "10342206         6           Los han hecho huir.\n",
              "10342207         6                  Los botaron.\n",
              "10342208         6          Los hicieron correr.\n",
              "10342209         6                Los corrieron.\n",
              "\n",
              "[10341812 rows x 2 columns]"
            ],
            "text/html": [
              "<div>\n",
              "<style scoped>\n",
              "    .dataframe tbody tr th:only-of-type {\n",
              "        vertical-align: middle;\n",
              "    }\n",
              "\n",
              "    .dataframe tbody tr th {\n",
              "        vertical-align: top;\n",
              "    }\n",
              "\n",
              "    .dataframe thead th {\n",
              "        text-align: right;\n",
              "    }\n",
              "</style>\n",
              "<table border=\"1\" class=\"dataframe\">\n",
              "  <thead>\n",
              "    <tr style=\"text-align: right;\">\n",
              "      <th></th>\n",
              "      <th>lan_code</th>\n",
              "      <th>sentence</th>\n",
              "    </tr>\n",
              "  </thead>\n",
              "  <tbody>\n",
              "    <tr>\n",
              "      <th>0</th>\n",
              "      <td>0</td>\n",
              "      <td>我們試試看！</td>\n",
              "    </tr>\n",
              "    <tr>\n",
              "      <th>1</th>\n",
              "      <td>0</td>\n",
              "      <td>我该去睡觉了。</td>\n",
              "    </tr>\n",
              "    <tr>\n",
              "      <th>2</th>\n",
              "      <td>0</td>\n",
              "      <td>你在干什麼啊？</td>\n",
              "    </tr>\n",
              "    <tr>\n",
              "      <th>3</th>\n",
              "      <td>0</td>\n",
              "      <td>這是什麼啊？</td>\n",
              "    </tr>\n",
              "    <tr>\n",
              "      <th>4</th>\n",
              "      <td>0</td>\n",
              "      <td>今天是６月１８号，也是Muiriel的生日！</td>\n",
              "    </tr>\n",
              "    <tr>\n",
              "      <th>...</th>\n",
              "      <td>...</td>\n",
              "      <td>...</td>\n",
              "    </tr>\n",
              "    <tr>\n",
              "      <th>10342205</th>\n",
              "      <td>6</td>\n",
              "      <td>Quiero este libro por favor.</td>\n",
              "    </tr>\n",
              "    <tr>\n",
              "      <th>10342206</th>\n",
              "      <td>6</td>\n",
              "      <td>Los han hecho huir.</td>\n",
              "    </tr>\n",
              "    <tr>\n",
              "      <th>10342207</th>\n",
              "      <td>6</td>\n",
              "      <td>Los botaron.</td>\n",
              "    </tr>\n",
              "    <tr>\n",
              "      <th>10342208</th>\n",
              "      <td>6</td>\n",
              "      <td>Los hicieron correr.</td>\n",
              "    </tr>\n",
              "    <tr>\n",
              "      <th>10342209</th>\n",
              "      <td>6</td>\n",
              "      <td>Los corrieron.</td>\n",
              "    </tr>\n",
              "  </tbody>\n",
              "</table>\n",
              "<p>10341812 rows × 2 columns</p>\n",
              "</div>"
            ]
          },
          "metadata": {},
          "execution_count": 13
        }
      ]
    },
    {
      "cell_type": "markdown",
      "source": [
        "### Train Test Split"
      ],
      "metadata": {
        "id": "7PoCjfbEkP6b"
      }
    },
    {
      "cell_type": "code",
      "source": [
        "X = df.pop('sentence').values\n",
        "y = df.copy().values.T[0]\n",
        "del df\n",
        "X"
      ],
      "metadata": {
        "colab": {
          "base_uri": "https://localhost:8080/"
        },
        "id": "MHoRvWglkRxm",
        "outputId": "20e54237-2087-49d4-d14d-a3985b05f3b4"
      },
      "execution_count": 14,
      "outputs": [
        {
          "output_type": "execute_result",
          "data": {
            "text/plain": [
              "array(['我們試試看！', '我该去睡觉了。', '你在干什麼啊？', ..., 'Los botaron.',\n",
              "       'Los hicieron correr.', 'Los corrieron.'], dtype=object)"
            ]
          },
          "metadata": {},
          "execution_count": 14
        }
      ]
    },
    {
      "cell_type": "code",
      "source": [
        "X_train, X_test, y_train, y_test = train_test_split(\n",
        "    X, y,\n",
        "    train_size=0.8,\n",
        "    random_state=42,\n",
        "    shuffle=True\n",
        ")\n",
        "del X, y"
      ],
      "metadata": {
        "id": "PzkaK2Uo_7Mn"
      },
      "execution_count": 15,
      "outputs": []
    },
    {
      "cell_type": "code",
      "source": [
        "y_train"
      ],
      "metadata": {
        "colab": {
          "base_uri": "https://localhost:8080/"
        },
        "id": "kHPL7So3lg8y",
        "outputId": "e09adabe-3707-4e70-cd58-8e258ecc557f"
      },
      "execution_count": 16,
      "outputs": [
        {
          "output_type": "execute_result",
          "data": {
            "text/plain": [
              "array([ 35,   5,   7, ..., 119,  82,  15])"
            ]
          },
          "metadata": {},
          "execution_count": 16
        }
      ]
    },
    {
      "cell_type": "markdown",
      "source": [
        "### Sentences to Sequences"
      ],
      "metadata": {
        "id": "hMsLL7JLmlmR"
      }
    },
    {
      "cell_type": "code",
      "source": [
        "%%time\n",
        "X_train, X_test, tok = tokenize_and_sequence(X_train, X_test)"
      ],
      "metadata": {
        "colab": {
          "base_uri": "https://localhost:8080/"
        },
        "id": "oPokN5eimc-_",
        "outputId": "434d3ef8-7755-4bd5-86d3-d1f228e1eddb"
      },
      "execution_count": 17,
      "outputs": [
        {
          "output_type": "stream",
          "name": "stdout",
          "text": [
            "num_words: 80000\n",
            "CPU times: total: 4min 14s\n",
            "Wall time: 4min 15s\n"
          ]
        }
      ]
    },
    {
      "cell_type": "code",
      "source": [
        "X_train.shape"
      ],
      "metadata": {
        "colab": {
          "base_uri": "https://localhost:8080/"
        },
        "id": "s0RldJUAvG7t",
        "outputId": "6d32f313-cc91-4a61-9b59-3c4bf36f7a7b"
      },
      "execution_count": 18,
      "outputs": [
        {
          "output_type": "execute_result",
          "data": {
            "text/plain": [
              "(8273449, 280)"
            ]
          },
          "metadata": {},
          "execution_count": 18
        }
      ]
    },
    {
      "cell_type": "markdown",
      "source": [
        "#### Save Tokenizer"
      ],
      "metadata": {
        "id": "B57skjBy8H9R"
      }
    },
    {
      "cell_type": "code",
      "source": [
        "if SAVE:\n",
        "  with open(f'models/utils/tokenizer_{v}.pickle', 'wb') as f:\n",
        "    pickle.dump(tok, f, protocol=pickle.HIGHEST_PROTOCOL)"
      ],
      "metadata": {
        "id": "DtRJrBSVt-sJ"
      },
      "execution_count": 20,
      "outputs": []
    },
    {
      "cell_type": "markdown",
      "source": [
        "## Model"
      ],
      "metadata": {
        "id": "110S2NLzpl_K"
      }
    },
    {
      "cell_type": "code",
      "source": [
        "model = LangoModel(num_classes=num_classes)"
      ],
      "metadata": {
        "id": "ky1rp-_KplCF"
      },
      "execution_count": null,
      "outputs": []
    },
    {
      "cell_type": "code",
      "source": [
        "model.compile(\n",
        "    optimizer=tf.keras.optimizers.Adam(learning_rate=1e-3),\n",
        "    loss=tf.keras.losses.SparseCategoricalCrossentropy(),\n",
        "    metrics=['accuracy']\n",
        ")"
      ],
      "metadata": {
        "id": "5sP0TJx3m7xd"
      },
      "execution_count": null,
      "outputs": []
    },
    {
      "cell_type": "code",
      "source": [
        "%%time\n",
        "model.fit(\n",
        "    X_train, y_train,\n",
        "    validation_data=(X_test, y_test),\n",
        "    batch_size=512,\n",
        "    epochs=2\n",
        ")"
      ],
      "metadata": {
        "id": "4UCCICWEDomf"
      },
      "execution_count": null,
      "outputs": []
    },
    {
      "cell_type": "code",
      "source": [
        "if SAVE:\n",
        "  model.save(f'models/lango_model_{v}')\n",
        "  with open(f'models/utils/tokenizer_{v}.pickle', 'wb') as f:\n",
        "    pickle.dump(tok, f, protocol=pickle.HIGHEST_PROTOCOL)"
      ],
      "metadata": {
        "id": "IV3g5EQqD7Zl"
      },
      "execution_count": null,
      "outputs": []
    }
  ]
}