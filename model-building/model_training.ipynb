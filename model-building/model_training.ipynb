{
  "nbformat": 4,
  "nbformat_minor": 0,
  "metadata": {
    "colab": {
      "name": "model_training.ipynb",
      "provenance": [],
      "collapsed_sections": [],
      "authorship_tag": "ABX9TyMS9ZQPfbfch3p1QquqPzMM",
      "include_colab_link": true
    },
    "kernelspec": {
      "name": "python3",
      "display_name": "Python 3"
    },
    "language_info": {
      "name": "python"
    }
  },
  "cells": [
    {
      "cell_type": "markdown",
      "metadata": {
        "id": "view-in-github",
        "colab_type": "text"
      },
      "source": [
        "<a href=\"https://colab.research.google.com/github/marcociav/lango/blob/master/model-building/model_training.ipynb\" target=\"_parent\"><img src=\"https://colab.research.google.com/assets/colab-badge.svg\" alt=\"Open In Colab\"/></a>"
      ]
    },
    {
      "cell_type": "markdown",
      "source": [
        "# Lango - Model Training"
      ],
      "metadata": {
        "id": "icpoPqVhDCTf"
      }
    },
    {
      "cell_type": "markdown",
      "source": [
        "## Imports"
      ],
      "metadata": {
        "id": "S3U9JHCzDHsz"
      }
    },
    {
      "cell_type": "markdown",
      "source": [
        "### Packages"
      ],
      "metadata": {
        "id": "aZ4UlShpDKOA"
      }
    },
    {
      "cell_type": "code",
      "execution_count": null,
      "metadata": {
        "id": "Av0hyw2H752E"
      },
      "outputs": [],
      "source": [
        "# TODO: retrain model and SAVE tokenizer too!\n",
        "import pandas as pd\n",
        "import tensorflow as tf\n",
        "import pickle\n",
        "\n",
        "from sklearn.model_selection import train_test_split\n",
        "from utils import tokenize_and_sequence, LangoModel"
      ]
    },
    {
      "cell_type": "markdown",
      "source": [
        "### Data"
      ],
      "metadata": {
        "id": "sndFZks7DMTG"
      }
    },
    {
      "cell_type": "code",
      "source": [
        "%%time\n",
        "df = pd.read_csv('data/sentences.csv', sep='\\t', names=[\"id\", \"lan_code\", \"sentence\"])"
      ],
      "metadata": {
        "id": "txFtuSGL8B59",
        "colab": {
          "base_uri": "https://localhost:8080/"
        },
        "outputId": "94de5645-2fed-49ce-a54e-15e45d2f98c5"
      },
      "execution_count": null,
      "outputs": [
        {
          "output_type": "stream",
          "name": "stdout",
          "text": [
            "CPU times: total: 11.6 s\n",
            "Wall time: 11.6 s\n"
          ]
        }
      ]
    },
    {
      "cell_type": "markdown",
      "source": [
        "## Data Cleaning"
      ],
      "metadata": {
        "id": "xqOHU0zqDOlP"
      }
    },
    {
      "cell_type": "code",
      "source": [
        "DEBUG = False\n",
        "if DEBUG:\n",
        "  df = df.sample(frac=0.01, random_state=42)"
      ],
      "metadata": {
        "id": "m0W5EWc4PdVn"
      },
      "execution_count": null,
      "outputs": []
    },
    {
      "cell_type": "code",
      "source": [
        "df = df.drop(columns=['id'])"
      ],
      "metadata": {
        "id": "UrhBIzkwlDxS"
      },
      "execution_count": null,
      "outputs": []
    },
    {
      "cell_type": "code",
      "source": [
        "df.lan_code.unique()"
      ],
      "metadata": {
        "colab": {
          "base_uri": "https://localhost:8080/"
        },
        "id": "_VLxxvSB-sTa",
        "outputId": "090f4dd0-dc59-446a-bb26-19b983e17bb3"
      },
      "execution_count": null,
      "outputs": [
        {
          "output_type": "execute_result",
          "data": {
            "text/plain": [
              "array(['cmn', 'deu', 'rus', 'fra', 'eng', 'jpn', 'spa', 'ita', 'kor',\n",
              "       'vie', 'nld', 'epo', 'por', 'tur', 'heb', 'hun', 'ell', 'ind',\n",
              "       'ara', 'arz', 'fin', 'bul', 'yue', 'swe', 'ukr', 'bel', 'que',\n",
              "       'ces', 'swh', 'nno', 'wuu', 'nob', 'zsm', 'est', 'kat', 'pol',\n",
              "       'lat', 'urd', 'sqi', 'isl', 'fry', 'afr', 'ron', 'fao', 'san',\n",
              "       'bre', 'tat', 'yid', 'uig', 'uzb', 'srp', 'qya', 'dan', 'pes', nan,\n",
              "       'slk', 'eus', 'cycl', 'acm', 'tgl', 'lvs', 'kaz', 'hye', 'hin',\n",
              "       'lit', 'ben', 'cat', 'bos', 'hrv', 'tha', 'orv', 'cha', 'mon',\n",
              "       'lzh', 'scn', 'gle', 'mkd', 'slv', 'frm', 'glg', 'vol', 'ain',\n",
              "       'jbo', 'tok', 'ina', 'nds', 'mal', 'tlh', 'roh', 'ltz', 'oss',\n",
              "       'ido', 'gla', 'mlt', 'sco', 'ast', 'jav', 'oci', 'ile', 'ota',\n",
              "       '\\\\N', 'xal', 'tel', 'sjn', 'nov', 'khm', 'tpi', 'ang', 'aze',\n",
              "       'tgk', 'tuk', 'chv', 'hsb', 'dsb', 'bod', 'sme', 'cym', 'mri',\n",
              "       'ksh', 'kmr', 'ewe', 'kab', 'ber', 'tpw', 'udm', 'lld', 'pms',\n",
              "       'lad', 'grn', 'mlg', 'xho', 'pnb', 'grc', 'hat', 'lao', 'npi',\n",
              "       'cor', 'nah', 'avk', 'mar', 'guj', 'pan', 'kir', 'myv', 'prg',\n",
              "       'sux', 'crs', 'ckt', 'bak', 'zlm', 'hil', 'cbk', 'chr', 'nav',\n",
              "       'lkt', 'enm', 'arq', 'lin', 'abk', 'pcd', 'rom', 'gsw', 'tam',\n",
              "       'zul', 'awa', 'wln', 'amh', 'bar', 'hbo', 'mhr', 'bho', 'mrj',\n",
              "       'ckb', 'osx', 'pfl', 'mgm', 'sna', 'mah', 'hau', 'kan', 'nog',\n",
              "       'sin', 'glv', 'dng', 'kal', 'liv', 'vro', 'apc', 'jdt', 'fur',\n",
              "       'che', 'haw', 'yor', 'crh', 'pdc', 'ppl', 'kin', 'shs', 'mnw',\n",
              "       'tet', 'sah', 'kum', 'ngt', 'nya', 'pus', 'hif', 'mya', 'moh',\n",
              "       'wol', 'tir', 'ton', 'lzz', 'oar', 'lug', 'brx', 'non', 'mww',\n",
              "       'hak', 'nlv', 'ngu', 'bua', 'aym', 'vec', 'ibo', 'tkl', 'bam',\n",
              "       'kha', 'ceb', 'lou', 'fuc', 'smo', 'gag', 'lfn', 'arg', 'umb',\n",
              "       'tyv', 'kjh', 'oji', 'cyo', 'urh', 'kzj', 'pam', 'srd', 'lmo',\n",
              "       'swg', 'mdf', 'gil', 'snd', 'tso', 'sot', 'zza', 'tsn', 'pau',\n",
              "       'som', 'egl', 'ady', 'asm', 'ori', 'dtp', 'cho', 'max', 'kam',\n",
              "       'niu', 'sag', 'ilo', 'kaa', 'fuv', 'nch', 'hoc', 'iba', 'gbm',\n",
              "       'sun', 'war', 'mvv', 'pap', 'ary', 'kxi', 'csb', 'pag', 'cos',\n",
              "       'rif', 'kek', 'krc', 'aii', 'ban', 'ssw', 'tvl', 'mfe', 'tah',\n",
              "       'bvy', 'bcl', 'hnj', 'nau', 'nst', 'afb', 'quc', 'min', 'tmw',\n",
              "       'mad', 'bjn', 'mai', 'cjy', 'got', 'hsn', 'gan', 'tzl', 'dws',\n",
              "       'ldn', 'afh', 'sgs', 'krl', 'vep', 'rue', 'tly', 'mic', 'ext',\n",
              "       'izh', 'sma', 'jam', 'cmo', 'mwl', 'kpv', 'koi', 'bis', 'ike',\n",
              "       'run', 'evn', 'ryu', 'mnc', 'aoz', 'otk', 'kas', 'aln', 'akl',\n",
              "       'yua', 'shy', 'fkv', 'gos', 'fij', 'thv', 'zgh', 'gcf', 'cay',\n",
              "       'xmf', 'tig', 'div', 'lij', 'rap', 'hrx', 'cpi', 'tts', 'gaa',\n",
              "       'tmr', 'iii', 'ltg', 'bzt', 'syc', 'emx', 'gom', 'chg', 'osp',\n",
              "       'stq', 'frr', 'fro', 'nys', 'toi', 'new', 'phn', 'jpa', 'rel',\n",
              "       'drt', 'chn', 'pli', 'laa', 'bal', 'hdn', 'hax', 'mik', 'ajp',\n",
              "       'xqa', 'pal', 'crk', 'mni', 'lut', 'ayl', 'ood', 'sdh', 'ofs',\n",
              "       'nus', 'kiu', 'diq', 'qxq', 'alt', 'bfz', 'klj', 'mus', 'srn',\n",
              "       'guc', 'lim', 'zea', 'shi', 'mnr', 'bom', 'sat', 'szl', 'igs'],\n",
              "      dtype=object)"
            ]
          },
          "metadata": {},
          "execution_count": 5
        }
      ]
    },
    {
      "cell_type": "code",
      "source": [
        "df = df.loc[~((df.lan_code.isna()) | (df.lan_code == '\\\\N'))]"
      ],
      "metadata": {
        "id": "S6neSEhV8x7w"
      },
      "execution_count": null,
      "outputs": []
    },
    {
      "cell_type": "code",
      "source": [
        "%%time\n",
        "df.sentence = df.sentence.str.replace('[^\\w\\s]', '')"
      ],
      "metadata": {
        "colab": {
          "base_uri": "https://localhost:8080/"
        },
        "id": "gjKJms6J9G_H",
        "outputId": "7ca26211-c5e1-4e8a-940b-dbea2cdf386c"
      },
      "execution_count": null,
      "outputs": [
        {
          "output_type": "stream",
          "name": "stderr",
          "text": [
            "<timed exec>:1: FutureWarning: The default value of regex will change from True to False in a future version.\n"
          ]
        },
        {
          "output_type": "stream",
          "name": "stdout",
          "text": [
            "CPU times: total: 15.3 s\n",
            "Wall time: 15.4 s\n"
          ]
        }
      ]
    },
    {
      "cell_type": "code",
      "source": [
        "df = df[~(df.sentence == '')]"
      ],
      "metadata": {
        "id": "F9OgBT2t_c4E"
      },
      "execution_count": null,
      "outputs": []
    },
    {
      "cell_type": "markdown",
      "source": [
        "## Preprocessing"
      ],
      "metadata": {
        "id": "BlgPMgSvhIFP"
      }
    },
    {
      "cell_type": "markdown",
      "source": [
        "### Encoding Classes"
      ],
      "metadata": {
        "id": "hJphcgXt_NJQ"
      }
    },
    {
      "cell_type": "code",
      "source": [
        "lan_list = list(df.lan_code.unique())\n",
        "num_classes = len(lan_list)\n",
        "\n",
        "num_classes"
      ],
      "metadata": {
        "colab": {
          "base_uri": "https://localhost:8080/"
        },
        "id": "VUu0GqqN--l9",
        "outputId": "534c9db1-2f3f-40e3-8d26-8ca15d6b8437"
      },
      "execution_count": null,
      "outputs": [
        {
          "output_type": "execute_result",
          "data": {
            "text/plain": [
              "404"
            ]
          },
          "metadata": {},
          "execution_count": 9
        }
      ]
    },
    {
      "cell_type": "code",
      "source": [
        "lan_to_num = {\n",
        "    lan: i \n",
        "    for i, lan in enumerate(lan_list)\n",
        "}\n",
        "num_to_lan = {\n",
        "    i: lan for lan, i in lan_to_num.items()\n",
        "}"
      ],
      "metadata": {
        "id": "77npeHWo_ePL"
      },
      "execution_count": null,
      "outputs": []
    },
    {
      "cell_type": "code",
      "source": [
        "df.lan_code = df.lan_code.map(lan_to_num).astype(int)"
      ],
      "metadata": {
        "id": "v6TdC6x9BKl8"
      },
      "execution_count": null,
      "outputs": []
    },
    {
      "cell_type": "code",
      "source": [
        "df"
      ],
      "metadata": {
        "colab": {
          "base_uri": "https://localhost:8080/",
          "height": 424
        },
        "id": "296Tt_QBB3EN",
        "outputId": "eb67b64e-10e6-4798-9d53-1aacb38ea04f"
      },
      "execution_count": null,
      "outputs": [
        {
          "output_type": "execute_result",
          "data": {
            "text/plain": [
              "          lan_code                     sentence\n",
              "0                0                        我們試試看\n",
              "1                0                       我该去睡觉了\n",
              "2                0                       你在干什麼啊\n",
              "3                0                        這是什麼啊\n",
              "4                0         今天是６月１８号也是Muiriel的生日\n",
              "...            ...                          ...\n",
              "10342205         6  Quiero este libro por favor\n",
              "10342206         6           Los han hecho huir\n",
              "10342207         6                  Los botaron\n",
              "10342208         6          Los hicieron correr\n",
              "10342209         6                Los corrieron\n",
              "\n",
              "[10341810 rows x 2 columns]"
            ],
            "text/html": [
              "<div>\n",
              "<style scoped>\n",
              "    .dataframe tbody tr th:only-of-type {\n",
              "        vertical-align: middle;\n",
              "    }\n",
              "\n",
              "    .dataframe tbody tr th {\n",
              "        vertical-align: top;\n",
              "    }\n",
              "\n",
              "    .dataframe thead th {\n",
              "        text-align: right;\n",
              "    }\n",
              "</style>\n",
              "<table border=\"1\" class=\"dataframe\">\n",
              "  <thead>\n",
              "    <tr style=\"text-align: right;\">\n",
              "      <th></th>\n",
              "      <th>lan_code</th>\n",
              "      <th>sentence</th>\n",
              "    </tr>\n",
              "  </thead>\n",
              "  <tbody>\n",
              "    <tr>\n",
              "      <th>0</th>\n",
              "      <td>0</td>\n",
              "      <td>我們試試看</td>\n",
              "    </tr>\n",
              "    <tr>\n",
              "      <th>1</th>\n",
              "      <td>0</td>\n",
              "      <td>我该去睡觉了</td>\n",
              "    </tr>\n",
              "    <tr>\n",
              "      <th>2</th>\n",
              "      <td>0</td>\n",
              "      <td>你在干什麼啊</td>\n",
              "    </tr>\n",
              "    <tr>\n",
              "      <th>3</th>\n",
              "      <td>0</td>\n",
              "      <td>這是什麼啊</td>\n",
              "    </tr>\n",
              "    <tr>\n",
              "      <th>4</th>\n",
              "      <td>0</td>\n",
              "      <td>今天是６月１８号也是Muiriel的生日</td>\n",
              "    </tr>\n",
              "    <tr>\n",
              "      <th>...</th>\n",
              "      <td>...</td>\n",
              "      <td>...</td>\n",
              "    </tr>\n",
              "    <tr>\n",
              "      <th>10342205</th>\n",
              "      <td>6</td>\n",
              "      <td>Quiero este libro por favor</td>\n",
              "    </tr>\n",
              "    <tr>\n",
              "      <th>10342206</th>\n",
              "      <td>6</td>\n",
              "      <td>Los han hecho huir</td>\n",
              "    </tr>\n",
              "    <tr>\n",
              "      <th>10342207</th>\n",
              "      <td>6</td>\n",
              "      <td>Los botaron</td>\n",
              "    </tr>\n",
              "    <tr>\n",
              "      <th>10342208</th>\n",
              "      <td>6</td>\n",
              "      <td>Los hicieron correr</td>\n",
              "    </tr>\n",
              "    <tr>\n",
              "      <th>10342209</th>\n",
              "      <td>6</td>\n",
              "      <td>Los corrieron</td>\n",
              "    </tr>\n",
              "  </tbody>\n",
              "</table>\n",
              "<p>10341810 rows × 2 columns</p>\n",
              "</div>"
            ]
          },
          "metadata": {},
          "execution_count": 12
        }
      ]
    },
    {
      "cell_type": "markdown",
      "source": [
        "### Train Test Split"
      ],
      "metadata": {
        "id": "7PoCjfbEkP6b"
      }
    },
    {
      "cell_type": "code",
      "source": [
        "X = df.pop('sentence').values\n",
        "y = df.copy().values.T[0]\n",
        "del df\n",
        "X"
      ],
      "metadata": {
        "colab": {
          "base_uri": "https://localhost:8080/"
        },
        "id": "MHoRvWglkRxm",
        "outputId": "067dd69b-0d0d-4c94-c8f0-3cb669fc72b4"
      },
      "execution_count": null,
      "outputs": [
        {
          "output_type": "execute_result",
          "data": {
            "text/plain": [
              "array(['我們試試看', '我该去睡觉了', '你在干什麼啊', ..., 'Los botaron',\n",
              "       'Los hicieron correr', 'Los corrieron'], dtype=object)"
            ]
          },
          "metadata": {},
          "execution_count": 13
        }
      ]
    },
    {
      "cell_type": "code",
      "source": [
        "X_train, X_test, y_train, y_test = train_test_split(\n",
        "    X, y,\n",
        "    train_size=0.8,\n",
        "    random_state=42,\n",
        "    shuffle=True\n",
        ")\n",
        "del X, y"
      ],
      "metadata": {
        "id": "PzkaK2Uo_7Mn"
      },
      "execution_count": null,
      "outputs": []
    },
    {
      "cell_type": "code",
      "source": [
        "y_train"
      ],
      "metadata": {
        "colab": {
          "base_uri": "https://localhost:8080/"
        },
        "id": "kHPL7So3lg8y",
        "outputId": "675cee65-2744-42cf-c3c4-721111ba3041"
      },
      "execution_count": null,
      "outputs": [
        {
          "output_type": "execute_result",
          "data": {
            "text/plain": [
              "array([ 7,  1,  5, ...,  6, 82, 15])"
            ]
          },
          "metadata": {},
          "execution_count": 15
        }
      ]
    },
    {
      "cell_type": "markdown",
      "source": [
        "### Sentences to Sequences"
      ],
      "metadata": {
        "id": "hMsLL7JLmlmR"
      }
    },
    {
      "cell_type": "code",
      "source": [
        "%%time\n",
        "X_train, X_test, tok = tokenize_and_sequence(X_train, X_test)"
      ],
      "metadata": {
        "colab": {
          "base_uri": "https://localhost:8080/"
        },
        "id": "oPokN5eimc-_",
        "outputId": "b328a9d2-6489-4da3-f172-07c3986289f7"
      },
      "execution_count": null,
      "outputs": [
        {
          "output_type": "stream",
          "name": "stdout",
          "text": [
            "CPU times: total: 4min 12s\n",
            "Wall time: 4min 15s\n"
          ]
        }
      ]
    },
    {
      "cell_type": "markdown",
      "source": [
        "## Model"
      ],
      "metadata": {
        "id": "110S2NLzpl_K"
      }
    },
    {
      "cell_type": "code",
      "source": [
        "model = LangoModel(num_classes=num_classes)"
      ],
      "metadata": {
        "id": "ky1rp-_KplCF"
      },
      "execution_count": null,
      "outputs": []
    },
    {
      "cell_type": "code",
      "source": [
        "model.compile(\n",
        "    optimizer=tf.keras.optimizers.Adam(learning_rate=1e-3),\n",
        "    loss=tf.keras.losses.SparseCategoricalCrossentropy(),\n",
        "    metrics=['accuracy']\n",
        ")"
      ],
      "metadata": {
        "id": "5sP0TJx3m7xd"
      },
      "execution_count": null,
      "outputs": []
    },
    {
      "cell_type": "code",
      "source": [
        "%%time\n",
        "model.fit(\n",
        "    X_train, y_train,\n",
        "    validation_data=(X_test, y_test),\n",
        "    batch_size=256,\n",
        "    epochs=2\n",
        ")"
      ],
      "metadata": {
        "colab": {
          "base_uri": "https://localhost:8080/"
        },
        "id": "4UCCICWEDomf",
        "outputId": "a7ba9f89-64a9-4dbb-8072-369692896dad"
      },
      "execution_count": null,
      "outputs": [
        {
          "output_type": "stream",
          "name": "stdout",
          "text": [
            "Epoch 1/2\n",
            "32319/32319 [==============================] - 4179s 129ms/step - loss: 0.5654 - accuracy: 0.8584 - val_loss: 0.3880 - val_accuracy: 0.8992\n",
            "Epoch 2/2\n",
            "32319/32319 [==============================] - 4110s 127ms/step - loss: 0.4045 - accuracy: 0.8975 - val_loss: 0.3667 - val_accuracy: 0.9043\n",
            "CPU times: total: 2h 16min 31s\n",
            "Wall time: 2h 18min 9s\n"
          ]
        },
        {
          "output_type": "execute_result",
          "data": {
            "text/plain": [
              "<keras.callbacks.History at 0x22818d92bb0>"
            ]
          },
          "metadata": {},
          "execution_count": 20
        }
      ]
    },
    {
      "cell_type": "code",
      "source": [
        "SAVE = True\n",
        "v = 'v1'\n",
        "if SAVE:\n",
        "  model.save(f'models/lango_model_{v}')\n",
        "  with open(f'models/tokenizer_{v}.pickle', 'wb') as f:\n",
        "    pickle.dump(tok, f, protocol=pickle.HIGHEST_PROTOCOL)"
      ],
      "metadata": {
        "colab": {
          "base_uri": "https://localhost:8080/"
        },
        "id": "IV3g5EQqD7Zl",
        "outputId": "b5676fc1-28f2-4c0a-c77b-5689f73deeac"
      },
      "execution_count": null,
      "outputs": [
        {
          "output_type": "stream",
          "name": "stderr",
          "text": [
            "WARNING:absl:Found untraced functions such as lstm_cell_1_layer_call_fn, lstm_cell_1_layer_call_and_return_conditional_losses, lstm_cell_2_layer_call_fn, lstm_cell_2_layer_call_and_return_conditional_losses, lstm_cell_4_layer_call_fn while saving (showing 5 of 20). These functions will not be directly callable after loading.\n"
          ]
        },
        {
          "output_type": "stream",
          "name": "stdout",
          "text": [
            "INFO:tensorflow:Assets written to: models/lango_model_v1\\assets\n"
          ]
        },
        {
          "output_type": "stream",
          "name": "stderr",
          "text": [
            "INFO:tensorflow:Assets written to: models/lango_model_v1\\assets\n",
            "WARNING:absl:<keras.layers.recurrent.LSTMCell object at 0x000002281A83E5E0> has the same name 'LSTMCell' as a built-in Keras object. Consider renaming <class 'keras.layers.recurrent.LSTMCell'> to avoid naming conflicts when loading with `tf.keras.models.load_model`. If renaming is not possible, pass the object in the `custom_objects` parameter of the load function.\n",
            "WARNING:absl:<keras.layers.recurrent.LSTMCell object at 0x000002281A211040> has the same name 'LSTMCell' as a built-in Keras object. Consider renaming <class 'keras.layers.recurrent.LSTMCell'> to avoid naming conflicts when loading with `tf.keras.models.load_model`. If renaming is not possible, pass the object in the `custom_objects` parameter of the load function.\n",
            "WARNING:absl:<keras.layers.recurrent.LSTMCell object at 0x0000022818C7A8B0> has the same name 'LSTMCell' as a built-in Keras object. Consider renaming <class 'keras.layers.recurrent.LSTMCell'> to avoid naming conflicts when loading with `tf.keras.models.load_model`. If renaming is not possible, pass the object in the `custom_objects` parameter of the load function.\n",
            "WARNING:absl:<keras.layers.recurrent.LSTMCell object at 0x0000022818C7C400> has the same name 'LSTMCell' as a built-in Keras object. Consider renaming <class 'keras.layers.recurrent.LSTMCell'> to avoid naming conflicts when loading with `tf.keras.models.load_model`. If renaming is not possible, pass the object in the `custom_objects` parameter of the load function.\n"
          ]
        }
      ]
    }
  ]
}