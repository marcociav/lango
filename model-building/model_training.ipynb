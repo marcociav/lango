{
  "nbformat": 4,
  "nbformat_minor": 0,
  "metadata": {
    "colab": {
      "name": "model_training.ipynb",
      "provenance": [],
      "collapsed_sections": [],
      "authorship_tag": "ABX9TyOU7SnDz/fJmRhbsg+74l83",
      "include_colab_link": true
    },
    "kernelspec": {
      "name": "python3",
      "display_name": "Python 3"
    },
    "language_info": {
      "name": "python"
    }
  },
  "cells": [
    {
      "cell_type": "markdown",
      "metadata": {
        "id": "view-in-github",
        "colab_type": "text"
      },
      "source": [
        "<a href=\"https://colab.research.google.com/github/marcociav/lango/blob/master/model-building/model_training.ipynb\" target=\"_parent\"><img src=\"https://colab.research.google.com/assets/colab-badge.svg\" alt=\"Open In Colab\"/></a>"
      ]
    },
    {
      "cell_type": "markdown",
      "source": [
        "# Lango - Model Training"
      ],
      "metadata": {
        "id": "icpoPqVhDCTf"
      }
    },
    {
      "cell_type": "markdown",
      "source": [
        "## Imports"
      ],
      "metadata": {
        "id": "S3U9JHCzDHsz"
      }
    },
    {
      "cell_type": "markdown",
      "source": [
        "### Packages"
      ],
      "metadata": {
        "id": "aZ4UlShpDKOA"
      }
    },
    {
      "cell_type": "code",
      "execution_count": 1,
      "metadata": {
        "id": "Av0hyw2H752E"
      },
      "outputs": [],
      "source": [
        "import pandas as pd\n",
        "import tensorflow as tf\n",
        "import pickle\n",
        "import json\n",
        "\n",
        "from pycountry import languages\n",
        "\n",
        "from sklearn.model_selection import train_test_split\n",
        "from utils import tokenize_and_sequence, LangoModel"
      ]
    },
    {
      "cell_type": "code",
      "source": [
        "SAVE = True\n",
        "DEBUG = False\n",
        "v = 'v2'"
      ],
      "metadata": {
        "id": "sYYBxYh4uBd0"
      },
      "execution_count": 2,
      "outputs": []
    },
    {
      "cell_type": "markdown",
      "source": [
        "### Data"
      ],
      "metadata": {
        "id": "sndFZks7DMTG"
      }
    },
    {
      "cell_type": "code",
      "source": [
        "%%time\n",
        "df = pd.read_csv('data/sentences.csv', sep='\\t', names=[\"id\", \"lan_code\", \"sentence\"])"
      ],
      "metadata": {
        "id": "txFtuSGL8B59",
        "colab": {
          "base_uri": "https://localhost:8080/"
        },
        "outputId": "9313e956-8e0b-46b1-a1c4-49851871b12e"
      },
      "execution_count": 3,
      "outputs": [
        {
          "output_type": "stream",
          "name": "stdout",
          "text": [
            "CPU times: total: 10.7 s\n",
            "Wall time: 10.7 s\n"
          ]
        }
      ]
    },
    {
      "cell_type": "markdown",
      "source": [
        "## Data Cleaning"
      ],
      "metadata": {
        "id": "xqOHU0zqDOlP"
      }
    },
    {
      "cell_type": "code",
      "source": [
        "if DEBUG:\n",
        "  df = df.sample(frac=0.01, random_state=42)"
      ],
      "metadata": {
        "id": "m0W5EWc4PdVn"
      },
      "execution_count": 4,
      "outputs": []
    },
    {
      "cell_type": "code",
      "source": [
        "df = df.drop(columns=['id'])"
      ],
      "metadata": {
        "id": "UrhBIzkwlDxS"
      },
      "execution_count": 5,
      "outputs": []
    },
    {
      "cell_type": "code",
      "source": [
        "df.lan_code.unique()"
      ],
      "metadata": {
        "colab": {
          "base_uri": "https://localhost:8080/"
        },
        "id": "_VLxxvSB-sTa",
        "outputId": "05c518e9-c298-4543-9045-0ccd0a1d198b"
      },
      "execution_count": 6,
      "outputs": [
        {
          "output_type": "execute_result",
          "data": {
            "text/plain": [
              "array(['cmn', 'deu', 'rus', 'fra', 'eng', 'jpn', 'spa', 'ita', 'kor',\n",
              "       'vie', 'nld', 'epo', 'por', 'tur', 'heb', 'hun', 'ell', 'ind',\n",
              "       'ara', 'arz', 'fin', 'bul', 'yue', 'swe', 'ukr', 'bel', 'que',\n",
              "       'ces', 'swh', 'nno', 'wuu', 'nob', 'zsm', 'est', 'kat', 'pol',\n",
              "       'lat', 'urd', 'sqi', 'isl', 'fry', 'afr', 'ron', 'fao', 'san',\n",
              "       'bre', 'tat', 'yid', 'uig', 'uzb', 'srp', 'qya', 'dan', 'pes', nan,\n",
              "       'slk', 'eus', 'cycl', 'acm', 'tgl', 'lvs', 'kaz', 'hye', 'hin',\n",
              "       'lit', 'ben', 'cat', 'bos', 'hrv', 'tha', 'orv', 'cha', 'mon',\n",
              "       'lzh', 'scn', 'gle', 'mkd', 'slv', 'frm', 'glg', 'vol', 'ain',\n",
              "       'jbo', 'tok', 'ina', 'nds', 'mal', 'tlh', 'roh', 'ltz', 'oss',\n",
              "       'ido', 'gla', 'mlt', 'sco', 'ast', 'jav', 'oci', 'ile', 'ota',\n",
              "       '\\\\N', 'xal', 'tel', 'sjn', 'nov', 'khm', 'tpi', 'ang', 'aze',\n",
              "       'tgk', 'tuk', 'chv', 'hsb', 'dsb', 'bod', 'sme', 'cym', 'mri',\n",
              "       'ksh', 'kmr', 'ewe', 'kab', 'ber', 'tpw', 'udm', 'lld', 'pms',\n",
              "       'lad', 'grn', 'mlg', 'xho', 'pnb', 'grc', 'hat', 'lao', 'npi',\n",
              "       'cor', 'nah', 'avk', 'mar', 'guj', 'pan', 'kir', 'myv', 'prg',\n",
              "       'sux', 'crs', 'ckt', 'bak', 'zlm', 'hil', 'cbk', 'chr', 'nav',\n",
              "       'lkt', 'enm', 'arq', 'lin', 'abk', 'pcd', 'rom', 'gsw', 'tam',\n",
              "       'zul', 'awa', 'wln', 'amh', 'bar', 'hbo', 'mhr', 'bho', 'mrj',\n",
              "       'ckb', 'osx', 'pfl', 'mgm', 'sna', 'mah', 'hau', 'kan', 'nog',\n",
              "       'sin', 'glv', 'dng', 'kal', 'liv', 'vro', 'apc', 'jdt', 'fur',\n",
              "       'che', 'haw', 'yor', 'crh', 'pdc', 'ppl', 'kin', 'shs', 'mnw',\n",
              "       'tet', 'sah', 'kum', 'ngt', 'nya', 'pus', 'hif', 'mya', 'moh',\n",
              "       'wol', 'tir', 'ton', 'lzz', 'oar', 'lug', 'brx', 'non', 'mww',\n",
              "       'hak', 'nlv', 'ngu', 'bua', 'aym', 'vec', 'ibo', 'tkl', 'bam',\n",
              "       'kha', 'ceb', 'lou', 'fuc', 'smo', 'gag', 'lfn', 'arg', 'umb',\n",
              "       'tyv', 'kjh', 'oji', 'cyo', 'urh', 'kzj', 'pam', 'srd', 'lmo',\n",
              "       'swg', 'mdf', 'gil', 'snd', 'tso', 'sot', 'zza', 'tsn', 'pau',\n",
              "       'som', 'egl', 'ady', 'asm', 'ori', 'dtp', 'cho', 'max', 'kam',\n",
              "       'niu', 'sag', 'ilo', 'kaa', 'fuv', 'nch', 'hoc', 'iba', 'gbm',\n",
              "       'sun', 'war', 'mvv', 'pap', 'ary', 'kxi', 'csb', 'pag', 'cos',\n",
              "       'rif', 'kek', 'krc', 'aii', 'ban', 'ssw', 'tvl', 'mfe', 'tah',\n",
              "       'bvy', 'bcl', 'hnj', 'nau', 'nst', 'afb', 'quc', 'min', 'tmw',\n",
              "       'mad', 'bjn', 'mai', 'cjy', 'got', 'hsn', 'gan', 'tzl', 'dws',\n",
              "       'ldn', 'afh', 'sgs', 'krl', 'vep', 'rue', 'tly', 'mic', 'ext',\n",
              "       'izh', 'sma', 'jam', 'cmo', 'mwl', 'kpv', 'koi', 'bis', 'ike',\n",
              "       'run', 'evn', 'ryu', 'mnc', 'aoz', 'otk', 'kas', 'aln', 'akl',\n",
              "       'yua', 'shy', 'fkv', 'gos', 'fij', 'thv', 'zgh', 'gcf', 'cay',\n",
              "       'xmf', 'tig', 'div', 'lij', 'rap', 'hrx', 'cpi', 'tts', 'gaa',\n",
              "       'tmr', 'iii', 'ltg', 'bzt', 'syc', 'emx', 'gom', 'chg', 'osp',\n",
              "       'stq', 'frr', 'fro', 'nys', 'toi', 'new', 'phn', 'jpa', 'rel',\n",
              "       'drt', 'chn', 'pli', 'laa', 'bal', 'hdn', 'hax', 'mik', 'ajp',\n",
              "       'xqa', 'pal', 'crk', 'mni', 'lut', 'ayl', 'ood', 'sdh', 'ofs',\n",
              "       'nus', 'kiu', 'diq', 'qxq', 'alt', 'bfz', 'klj', 'mus', 'srn',\n",
              "       'guc', 'lim', 'zea', 'shi', 'mnr', 'bom', 'sat', 'szl', 'igs'],\n",
              "      dtype=object)"
            ]
          },
          "metadata": {},
          "execution_count": 6
        }
      ]
    },
    {
      "cell_type": "code",
      "source": [
        "df = df.loc[~((df.lan_code.isna()) | (df.lan_code == '\\\\N'))]"
      ],
      "metadata": {
        "id": "S6neSEhV8x7w"
      },
      "execution_count": 7,
      "outputs": []
    },
    {
      "cell_type": "code",
      "source": [
        "df = df[~((df.sentence == '') | (df.sentence == ' '))]"
      ],
      "metadata": {
        "id": "F9OgBT2t_c4E"
      },
      "execution_count": 8,
      "outputs": []
    },
    {
      "cell_type": "markdown",
      "source": [
        "## Preprocessing"
      ],
      "metadata": {
        "id": "BlgPMgSvhIFP"
      }
    },
    {
      "cell_type": "markdown",
      "source": [
        "### Encoding Classes"
      ],
      "metadata": {
        "id": "hJphcgXt_NJQ"
      }
    },
    {
      "cell_type": "code",
      "source": [
        "lan_list = list(df.lan_code.unique())\n",
        "num_classes = len(lan_list)\n",
        "\n",
        "num_classes"
      ],
      "metadata": {
        "colab": {
          "base_uri": "https://localhost:8080/"
        },
        "id": "VUu0GqqN--l9",
        "outputId": "d7f41721-d59f-469d-e1c3-8bbd77353cae"
      },
      "execution_count": 9,
      "outputs": [
        {
          "output_type": "execute_result",
          "data": {
            "text/plain": [
              "404"
            ]
          },
          "metadata": {},
          "execution_count": 9
        }
      ]
    },
    {
      "cell_type": "code",
      "source": [
        "lan_to_num = {\n",
        "    lan: i \n",
        "    for i, lan in enumerate(lan_list)\n",
        "}\n",
        "num_to_lan = {\n",
        "    i: lan for lan, i in lan_to_num.items()\n",
        "}"
      ],
      "metadata": {
        "id": "77npeHWo_ePL"
      },
      "execution_count": 10,
      "outputs": []
    },
    {
      "cell_type": "code",
      "source": [
        "lan_to_language = {}\n",
        "for lan in lan_list:\n",
        "  try:\n",
        "    lan_to_language[lan] = languages.get(alpha_3=lan).name\n",
        "  except AttributeError as e:\n",
        "    print(f\"No info for lan: {lan}\")\n",
        "    lan_to_language[lan] = lan"
      ],
      "metadata": {
        "colab": {
          "base_uri": "https://localhost:8080/"
        },
        "id": "rP9sMN6QZSGS",
        "outputId": "9e209930-0e81-4c8e-97be-093759120bcc"
      },
      "execution_count": 11,
      "outputs": [
        {
          "output_type": "stream",
          "name": "stdout",
          "text": [
            "No info for lan: cycl\n",
            "No info for lan: tok\n",
            "No info for lan: ber\n",
            "No info for lan: nah\n",
            "No info for lan: kzj\n"
          ]
        }
      ]
    },
    {
      "cell_type": "markdown",
      "source": [
        "#### Adding missing languages"
      ],
      "metadata": {
        "id": "TFOkaRE-iIe3"
      }
    },
    {
      "cell_type": "code",
      "source": [
        "# Adding missing languages (might be bug in pycountry module)\n",
        "lan_to_language['cycl'] = 'CycL'\n",
        "lan_to_language['tok'] = 'Toki Pona'\n",
        "lan_to_language['ber'] = 'Berber languages'\n",
        "lan_to_language['nah'] = 'Nahuatl'\n",
        "lan_to_language['kzj'] = 'Coastal Kadazan'"
      ],
      "metadata": {
        "id": "fOw5e-z8e0fG"
      },
      "execution_count": 12,
      "outputs": []
    },
    {
      "cell_type": "markdown",
      "source": [
        "#### Save lancode encoding"
      ],
      "metadata": {
        "id": "-edOvzLwjddf"
      }
    },
    {
      "cell_type": "code",
      "source": [
        "with open('models/utils/lan_to_num.json', 'w') as f:\n",
        "  json.dump(lan_to_num, f)\n",
        "with open('models/utils/num_to_lan.json', 'w') as f:\n",
        "  json.dump(num_to_lan, f)\n",
        "with open('models/utils/lan_to_language.json', 'w') as f:\n",
        "  json.dump(lan_to_language, f)"
      ],
      "metadata": {
        "id": "RnP0S6jMjdGZ"
      },
      "execution_count": 13,
      "outputs": []
    },
    {
      "cell_type": "code",
      "source": [
        "df.lan_code = df.lan_code.map(lan_to_num).astype(int)"
      ],
      "metadata": {
        "id": "v6TdC6x9BKl8"
      },
      "execution_count": 14,
      "outputs": []
    },
    {
      "cell_type": "code",
      "source": [
        "df"
      ],
      "metadata": {
        "colab": {
          "base_uri": "https://localhost:8080/",
          "height": 423
        },
        "id": "296Tt_QBB3EN",
        "outputId": "31fe94f2-aeb0-4785-f790-6521727edc06"
      },
      "execution_count": 15,
      "outputs": [
        {
          "output_type": "execute_result",
          "data": {
            "text/plain": [
              "          lan_code                      sentence\n",
              "0                0                        我們試試看！\n",
              "1                0                       我该去睡觉了。\n",
              "2                0                       你在干什麼啊？\n",
              "3                0                        這是什麼啊？\n",
              "4                0        今天是６月１８号，也是Muiriel的生日！\n",
              "...            ...                           ...\n",
              "10342205         6  Quiero este libro por favor.\n",
              "10342206         6           Los han hecho huir.\n",
              "10342207         6                  Los botaron.\n",
              "10342208         6          Los hicieron correr.\n",
              "10342209         6                Los corrieron.\n",
              "\n",
              "[10341812 rows x 2 columns]"
            ],
            "text/html": [
              "<div>\n",
              "<style scoped>\n",
              "    .dataframe tbody tr th:only-of-type {\n",
              "        vertical-align: middle;\n",
              "    }\n",
              "\n",
              "    .dataframe tbody tr th {\n",
              "        vertical-align: top;\n",
              "    }\n",
              "\n",
              "    .dataframe thead th {\n",
              "        text-align: right;\n",
              "    }\n",
              "</style>\n",
              "<table border=\"1\" class=\"dataframe\">\n",
              "  <thead>\n",
              "    <tr style=\"text-align: right;\">\n",
              "      <th></th>\n",
              "      <th>lan_code</th>\n",
              "      <th>sentence</th>\n",
              "    </tr>\n",
              "  </thead>\n",
              "  <tbody>\n",
              "    <tr>\n",
              "      <th>0</th>\n",
              "      <td>0</td>\n",
              "      <td>我們試試看！</td>\n",
              "    </tr>\n",
              "    <tr>\n",
              "      <th>1</th>\n",
              "      <td>0</td>\n",
              "      <td>我该去睡觉了。</td>\n",
              "    </tr>\n",
              "    <tr>\n",
              "      <th>2</th>\n",
              "      <td>0</td>\n",
              "      <td>你在干什麼啊？</td>\n",
              "    </tr>\n",
              "    <tr>\n",
              "      <th>3</th>\n",
              "      <td>0</td>\n",
              "      <td>這是什麼啊？</td>\n",
              "    </tr>\n",
              "    <tr>\n",
              "      <th>4</th>\n",
              "      <td>0</td>\n",
              "      <td>今天是６月１８号，也是Muiriel的生日！</td>\n",
              "    </tr>\n",
              "    <tr>\n",
              "      <th>...</th>\n",
              "      <td>...</td>\n",
              "      <td>...</td>\n",
              "    </tr>\n",
              "    <tr>\n",
              "      <th>10342205</th>\n",
              "      <td>6</td>\n",
              "      <td>Quiero este libro por favor.</td>\n",
              "    </tr>\n",
              "    <tr>\n",
              "      <th>10342206</th>\n",
              "      <td>6</td>\n",
              "      <td>Los han hecho huir.</td>\n",
              "    </tr>\n",
              "    <tr>\n",
              "      <th>10342207</th>\n",
              "      <td>6</td>\n",
              "      <td>Los botaron.</td>\n",
              "    </tr>\n",
              "    <tr>\n",
              "      <th>10342208</th>\n",
              "      <td>6</td>\n",
              "      <td>Los hicieron correr.</td>\n",
              "    </tr>\n",
              "    <tr>\n",
              "      <th>10342209</th>\n",
              "      <td>6</td>\n",
              "      <td>Los corrieron.</td>\n",
              "    </tr>\n",
              "  </tbody>\n",
              "</table>\n",
              "<p>10341812 rows × 2 columns</p>\n",
              "</div>"
            ]
          },
          "metadata": {},
          "execution_count": 15
        }
      ]
    },
    {
      "cell_type": "markdown",
      "source": [
        "### Train Test Split"
      ],
      "metadata": {
        "id": "7PoCjfbEkP6b"
      }
    },
    {
      "cell_type": "code",
      "source": [
        "X = df.pop('sentence').values\n",
        "y = df.copy().values.T[0]\n",
        "del df\n",
        "X"
      ],
      "metadata": {
        "colab": {
          "base_uri": "https://localhost:8080/"
        },
        "id": "MHoRvWglkRxm",
        "outputId": "0b81f518-ae8b-461c-d545-efc56c134267"
      },
      "execution_count": 16,
      "outputs": [
        {
          "output_type": "execute_result",
          "data": {
            "text/plain": [
              "array(['我們試試看！', '我该去睡觉了。', '你在干什麼啊？', ..., 'Los botaron.',\n",
              "       'Los hicieron correr.', 'Los corrieron.'], dtype=object)"
            ]
          },
          "metadata": {},
          "execution_count": 16
        }
      ]
    },
    {
      "cell_type": "code",
      "source": [
        "X_train, X_test, y_train, y_test = train_test_split(\n",
        "    X, y,\n",
        "    train_size=0.8,\n",
        "    random_state=42,\n",
        "    shuffle=True\n",
        ")\n",
        "del X, y"
      ],
      "metadata": {
        "id": "PzkaK2Uo_7Mn"
      },
      "execution_count": 17,
      "outputs": []
    },
    {
      "cell_type": "code",
      "source": [
        "y_train"
      ],
      "metadata": {
        "colab": {
          "base_uri": "https://localhost:8080/"
        },
        "id": "kHPL7So3lg8y",
        "outputId": "7f89ad08-809b-4cb7-df9d-43b6b240e7e2"
      },
      "execution_count": 18,
      "outputs": [
        {
          "output_type": "execute_result",
          "data": {
            "text/plain": [
              "array([ 35,   5,   7, ..., 119,  82,  15])"
            ]
          },
          "metadata": {},
          "execution_count": 18
        }
      ]
    },
    {
      "cell_type": "markdown",
      "source": [
        "### Sentences to Sequences"
      ],
      "metadata": {
        "id": "hMsLL7JLmlmR"
      }
    },
    {
      "cell_type": "code",
      "source": [
        "%%time\n",
        "X_train, X_test, tok = tokenize_and_sequence(X_train, X_test)"
      ],
      "metadata": {
        "colab": {
          "base_uri": "https://localhost:8080/"
        },
        "id": "oPokN5eimc-_",
        "outputId": "cd53ef63-f653-45b2-eafd-d8d2cfb1c6c5"
      },
      "execution_count": 19,
      "outputs": [
        {
          "output_type": "stream",
          "name": "stdout",
          "text": [
            "num_words: 1000000\n",
            "CPU times: total: 3min 52s\n",
            "Wall time: 3min 52s\n"
          ]
        }
      ]
    },
    {
      "cell_type": "code",
      "source": [
        "X_train.shape"
      ],
      "metadata": {
        "colab": {
          "base_uri": "https://localhost:8080/"
        },
        "id": "s0RldJUAvG7t",
        "outputId": "aed76b0b-6ba9-413f-fef8-875e13e5ebe3"
      },
      "execution_count": 20,
      "outputs": [
        {
          "output_type": "execute_result",
          "data": {
            "text/plain": [
              "(8273449, 140)"
            ]
          },
          "metadata": {},
          "execution_count": 20
        }
      ]
    },
    {
      "cell_type": "markdown",
      "source": [
        "## Model"
      ],
      "metadata": {
        "id": "110S2NLzpl_K"
      }
    },
    {
      "cell_type": "code",
      "source": [
        "model = LangoModel(num_classes=num_classes)"
      ],
      "metadata": {
        "id": "ky1rp-_KplCF"
      },
      "execution_count": 21,
      "outputs": []
    },
    {
      "cell_type": "code",
      "source": [
        "model.compile(\n",
        "    optimizer=tf.keras.optimizers.Adam(learning_rate=1e-3),\n",
        "    loss=tf.keras.losses.SparseCategoricalCrossentropy(),\n",
        "    metrics=['accuracy']\n",
        ")"
      ],
      "metadata": {
        "id": "5sP0TJx3m7xd"
      },
      "execution_count": 22,
      "outputs": []
    },
    {
      "cell_type": "code",
      "source": [
        "%%time\n",
        "model.fit(\n",
        "    X_train, y_train,\n",
        "    validation_data=(X_test, y_test),\n",
        "    batch_size=512,\n",
        "    epochs=5\n",
        ")"
      ],
      "metadata": {
        "id": "4UCCICWEDomf",
        "colab": {
          "base_uri": "https://localhost:8080/"
        },
        "outputId": "bb809b9f-913a-498d-95dd-902d0c6444fa"
      },
      "execution_count": 23,
      "outputs": [
        {
          "output_type": "stream",
          "name": "stdout",
          "text": [
            "Epoch 1/5\n",
            "16160/16160 [==============================] - 1183s 73ms/step - loss: 0.4168 - accuracy: 0.8961 - val_loss: 0.1560 - val_accuracy: 0.9591\n",
            "Epoch 2/5\n",
            "16160/16160 [==============================] - 1154s 71ms/step - loss: 0.1437 - accuracy: 0.9621 - val_loss: 0.1298 - val_accuracy: 0.9661\n",
            "Epoch 3/5\n",
            "16160/16160 [==============================] - 1156s 72ms/step - loss: 0.1122 - accuracy: 0.9697 - val_loss: 0.1229 - val_accuracy: 0.9680\n",
            "Epoch 4/5\n",
            "16160/16160 [==============================] - 1195s 74ms/step - loss: 0.0975 - accuracy: 0.9736 - val_loss: 0.1234 - val_accuracy: 0.9691\n",
            "Epoch 5/5\n",
            "16160/16160 [==============================] - 1242s 77ms/step - loss: 0.0890 - accuracy: 0.9758 - val_loss: 0.1219 - val_accuracy: 0.9696\n",
            "CPU times: total: 1h 44min 57s\n",
            "Wall time: 1h 38min 49s\n"
          ]
        },
        {
          "output_type": "execute_result",
          "data": {
            "text/plain": [
              "<keras.callbacks.History at 0x1ad1f2b9790>"
            ]
          },
          "metadata": {},
          "execution_count": 23
        }
      ]
    },
    {
      "cell_type": "code",
      "source": [
        "if SAVE:\n",
        "  model.save(f'models/lango_model_{v}')\n",
        "  with open(f'models/utils/tokenizer_{v}.pickle', 'wb') as f:\n",
        "    pickle.dump(tok, f, protocol=pickle.HIGHEST_PROTOCOL)"
      ],
      "metadata": {
        "id": "IV3g5EQqD7Zl",
        "colab": {
          "base_uri": "https://localhost:8080/"
        },
        "outputId": "29aec027-6e45-4dc2-8eda-28970c644970"
      },
      "execution_count": 24,
      "outputs": [
        {
          "output_type": "stream",
          "name": "stderr",
          "text": [
            "WARNING:absl:Found untraced functions such as lstm_cell_1_layer_call_fn, lstm_cell_1_layer_call_and_return_conditional_losses, lstm_cell_2_layer_call_fn, lstm_cell_2_layer_call_and_return_conditional_losses, lstm_cell_4_layer_call_fn while saving (showing 5 of 20). These functions will not be directly callable after loading.\n"
          ]
        },
        {
          "output_type": "stream",
          "name": "stdout",
          "text": [
            "INFO:tensorflow:Assets written to: models/lango_model_v2\\assets\n"
          ]
        },
        {
          "output_type": "stream",
          "name": "stderr",
          "text": [
            "INFO:tensorflow:Assets written to: models/lango_model_v2\\assets\n",
            "WARNING:absl:<keras.layers.recurrent.LSTMCell object at 0x000001ADD9F17370> has the same name 'LSTMCell' as a built-in Keras object. Consider renaming <class 'keras.layers.recurrent.LSTMCell'> to avoid naming conflicts when loading with `tf.keras.models.load_model`. If renaming is not possible, pass the object in the `custom_objects` parameter of the load function.\n",
            "WARNING:absl:<keras.layers.recurrent.LSTMCell object at 0x000001ADD9F17BE0> has the same name 'LSTMCell' as a built-in Keras object. Consider renaming <class 'keras.layers.recurrent.LSTMCell'> to avoid naming conflicts when loading with `tf.keras.models.load_model`. If renaming is not possible, pass the object in the `custom_objects` parameter of the load function.\n",
            "WARNING:absl:<keras.layers.recurrent.LSTMCell object at 0x000001AD1EFAA640> has the same name 'LSTMCell' as a built-in Keras object. Consider renaming <class 'keras.layers.recurrent.LSTMCell'> to avoid naming conflicts when loading with `tf.keras.models.load_model`. If renaming is not possible, pass the object in the `custom_objects` parameter of the load function.\n",
            "WARNING:absl:<keras.layers.recurrent.LSTMCell object at 0x000001AD1EFAF190> has the same name 'LSTMCell' as a built-in Keras object. Consider renaming <class 'keras.layers.recurrent.LSTMCell'> to avoid naming conflicts when loading with `tf.keras.models.load_model`. If renaming is not possible, pass the object in the `custom_objects` parameter of the load function.\n"
          ]
        }
      ]
    }
  ]
}