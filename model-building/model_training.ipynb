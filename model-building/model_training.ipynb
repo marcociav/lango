{
  "nbformat": 4,
  "nbformat_minor": 0,
  "metadata": {
    "colab": {
      "name": "model_training.ipynb",
      "provenance": [],
      "collapsed_sections": [],
      "authorship_tag": "ABX9TyPC+JRNjlvTFSM/pF4bst81",
      "include_colab_link": true
    },
    "kernelspec": {
      "name": "python3",
      "display_name": "Python 3"
    },
    "language_info": {
      "name": "python"
    }
  },
  "cells": [
    {
      "cell_type": "markdown",
      "metadata": {
        "id": "view-in-github",
        "colab_type": "text"
      },
      "source": [
        "<a href=\"https://colab.research.google.com/github/marcociav/lango/blob/master/model-building/model_training.ipynb\" target=\"_parent\"><img src=\"https://colab.research.google.com/assets/colab-badge.svg\" alt=\"Open In Colab\"/></a>"
      ]
    },
    {
      "cell_type": "markdown",
      "source": [
        "# Lango - Model Training"
      ],
      "metadata": {
        "id": "icpoPqVhDCTf"
      }
    },
    {
      "cell_type": "markdown",
      "source": [
        "## Imports"
      ],
      "metadata": {
        "id": "S3U9JHCzDHsz"
      }
    },
    {
      "cell_type": "markdown",
      "source": [
        "### Packages"
      ],
      "metadata": {
        "id": "aZ4UlShpDKOA"
      }
    },
    {
      "cell_type": "code",
      "execution_count": null,
      "metadata": {
        "id": "Av0hyw2H752E"
      },
      "outputs": [],
      "source": [
        "import pandas as pd"
      ]
    },
    {
      "cell_type": "markdown",
      "source": [
        "### Data"
      ],
      "metadata": {
        "id": "sndFZks7DMTG"
      }
    },
    {
      "cell_type": "code",
      "source": [
        "df = pd.read_csv('data/sentences.csv', sep='\\t', names=[\"id\", \"lan_code\", \"sentence\"])"
      ],
      "metadata": {
        "id": "txFtuSGL8B59"
      },
      "execution_count": null,
      "outputs": []
    },
    {
      "cell_type": "markdown",
      "source": [
        "## Data Cleaning"
      ],
      "metadata": {
        "id": "xqOHU0zqDOlP"
      }
    },
    {
      "cell_type": "code",
      "source": [
        "df.lan_code.unique()"
      ],
      "metadata": {
        "colab": {
          "base_uri": "https://localhost:8080/"
        },
        "id": "_VLxxvSB-sTa",
        "outputId": "90e9f3e6-198e-456a-f8ca-3ae8edf9c53f"
      },
      "execution_count": null,
      "outputs": [
        {
          "output_type": "execute_result",
          "data": {
            "text/plain": [
              "array(['cmn', 'deu', 'rus', 'fra', 'eng', 'jpn', 'spa', 'ita', 'kor',\n",
              "       'vie', 'nld', 'epo', 'por', 'tur', 'heb', 'hun', 'ell', 'ind',\n",
              "       'ara', 'arz', 'fin', 'bul', 'yue', 'swe', 'ukr', 'bel', 'que',\n",
              "       'ces', 'swh', 'nno', 'wuu', 'nob', 'zsm', 'est', 'kat', 'pol',\n",
              "       'lat', 'urd', 'sqi', 'isl', 'fry', 'afr', 'ron', 'fao', 'san',\n",
              "       'bre', 'tat', 'yid', 'uig', 'uzb', 'srp', 'qya', 'dan', 'pes', nan,\n",
              "       'slk', 'eus', 'cycl', 'acm', 'tgl', 'lvs', 'kaz', 'hye', 'hin',\n",
              "       'lit', 'ben', 'cat', 'bos', 'hrv', 'tha', 'orv', 'cha', 'mon',\n",
              "       'lzh', 'scn', 'gle', 'mkd', 'slv', 'frm', 'glg', 'vol', 'ain',\n",
              "       'jbo', 'tok', 'ina', 'nds', 'mal', 'tlh', 'roh', 'ltz', 'oss',\n",
              "       'ido', 'gla', 'mlt', 'sco', 'ast', 'jav', 'oci', 'ile', 'ota',\n",
              "       '\\\\N', 'xal', 'tel', 'sjn', 'nov', 'khm', 'tpi', 'ang', 'aze',\n",
              "       'tgk', 'tuk', 'chv', 'hsb', 'dsb', 'bod', 'sme', 'cym', 'mri',\n",
              "       'ksh', 'kmr', 'ewe', 'kab', 'ber', 'tpw', 'udm', 'lld', 'pms',\n",
              "       'lad', 'grn', 'mlg', 'xho', 'pnb', 'grc', 'hat', 'lao', 'npi',\n",
              "       'cor', 'nah', 'avk', 'mar', 'guj', 'pan', 'kir', 'myv', 'prg',\n",
              "       'sux', 'crs', 'ckt', 'bak', 'zlm', 'hil', 'cbk', 'chr', 'nav',\n",
              "       'lkt', 'enm', 'arq', 'lin', 'abk', 'pcd', 'rom', 'gsw', 'tam',\n",
              "       'zul', 'awa', 'wln', 'amh', 'bar', 'hbo', 'mhr', 'bho', 'mrj',\n",
              "       'ckb', 'osx', 'pfl', 'mgm', 'sna', 'mah', 'hau', 'kan', 'nog',\n",
              "       'sin', 'glv', 'dng', 'kal', 'liv', 'vro', 'apc', 'jdt', 'fur',\n",
              "       'che', 'haw', 'yor', 'crh', 'pdc', 'ppl', 'kin', 'shs', 'mnw',\n",
              "       'tet', 'sah', 'kum', 'ngt', 'nya', 'pus', 'hif', 'mya', 'moh',\n",
              "       'wol', 'tir', 'ton', 'lzz', 'oar', 'lug', 'brx', 'non', 'mww',\n",
              "       'hak', 'nlv', 'ngu', 'bua', 'aym', 'vec', 'ibo', 'tkl', 'bam',\n",
              "       'kha', 'ceb', 'lou', 'fuc', 'smo', 'gag', 'lfn', 'arg', 'umb',\n",
              "       'tyv', 'kjh', 'oji', 'cyo', 'urh', 'kzj', 'pam', 'srd', 'lmo',\n",
              "       'swg', 'mdf', 'gil', 'snd', 'tso', 'sot', 'zza', 'tsn', 'pau',\n",
              "       'som', 'egl', 'ady', 'asm', 'ori', 'dtp', 'cho', 'max', 'kam',\n",
              "       'niu', 'sag', 'ilo', 'kaa', 'fuv', 'nch', 'hoc', 'iba', 'gbm',\n",
              "       'sun', 'war', 'mvv', 'pap', 'ary', 'kxi', 'csb', 'pag', 'cos',\n",
              "       'rif', 'kek', 'krc', 'aii', 'ban', 'ssw', 'tvl', 'mfe', 'tah',\n",
              "       'bvy', 'bcl', 'hnj', 'nau', 'nst', 'afb', 'quc', 'min', 'tmw',\n",
              "       'mad', 'bjn', 'mai', 'cjy', 'got', 'hsn', 'gan', 'tzl', 'dws',\n",
              "       'ldn', 'afh', 'sgs', 'krl', 'vep', 'rue', 'tly', 'mic', 'ext',\n",
              "       'izh', 'sma', 'jam', 'cmo', 'mwl', 'kpv', 'koi', 'bis', 'ike',\n",
              "       'run', 'evn', 'ryu', 'mnc', 'aoz', 'otk', 'kas', 'aln', 'akl',\n",
              "       'yua', 'shy', 'fkv', 'gos', 'fij', 'thv', 'zgh', 'gcf', 'cay',\n",
              "       'xmf', 'tig', 'div', 'lij', 'rap', 'hrx', 'cpi', 'tts', 'gaa',\n",
              "       'tmr', 'iii', 'ltg', 'bzt', 'syc', 'emx', 'gom', 'chg', 'osp',\n",
              "       'stq', 'frr', 'fro', 'nys', 'toi', 'new', 'phn', 'jpa', 'rel',\n",
              "       'drt', 'chn', 'pli', 'laa', 'bal', 'hdn', 'hax', 'mik', 'ajp',\n",
              "       'xqa', 'pal', 'crk', 'mni', 'lut', 'ayl', 'ood', 'sdh', 'ofs',\n",
              "       'nus', 'kiu', 'diq', 'qxq', 'alt', 'bfz', 'klj', 'mus', 'srn',\n",
              "       'guc', 'lim', 'zea', 'shi', 'mnr', 'bom', 'sat', 'szl', 'igs'],\n",
              "      dtype=object)"
            ]
          },
          "metadata": {},
          "execution_count": 11
        }
      ]
    },
    {
      "cell_type": "code",
      "source": [
        "df = df.loc[~((df.lan_code.isna()) | (df.lan_code == '\\\\N'))]"
      ],
      "metadata": {
        "id": "S6neSEhV8x7w"
      },
      "execution_count": null,
      "outputs": []
    },
    {
      "cell_type": "code",
      "source": [
        "df.sentence = df.sentence.str.replace('[^\\w\\s]', '')"
      ],
      "metadata": {
        "colab": {
          "base_uri": "https://localhost:8080/"
        },
        "id": "gjKJms6J9G_H",
        "outputId": "c224c19c-2327-4d6b-9936-7bf5423dea05"
      },
      "execution_count": null,
      "outputs": [
        {
          "output_type": "stream",
          "name": "stderr",
          "text": [
            "C:\\Users\\marco\\AppData\\Local\\Temp\\ipykernel_14592\\1856176412.py:1: FutureWarning: The default value of regex will change from True to False in a future version.\n",
            "  df.sentence = df.sentence.str.replace('[^\\w\\s]', '')\n"
          ]
        }
      ]
    },
    {
      "cell_type": "code",
      "source": [
        "df = df[~(df.sentence == '')]"
      ],
      "metadata": {
        "id": "F9OgBT2t_c4E"
      },
      "execution_count": null,
      "outputs": []
    },
    {
      "cell_type": "code",
      "source": [
        ""
      ],
      "metadata": {
        "id": "PzkaK2Uo_7Mn"
      },
      "execution_count": null,
      "outputs": []
    }
  ]
}